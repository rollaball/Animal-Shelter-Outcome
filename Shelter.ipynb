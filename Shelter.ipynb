{
 "cells": [
  {
   "cell_type": "code",
   "execution_count": 108,
   "metadata": {},
   "outputs": [],
   "source": [
    "import sklearn as sk\n",
    "import seaborn as sns\n",
    "import numpy as np\n",
    "import matplotlib.pyplot as plt\n",
    "%matplotlib inline\n",
    "import pandas as pd\n",
    "import datetime"
   ]
  },
  {
   "cell_type": "code",
   "execution_count": 109,
   "metadata": {},
   "outputs": [],
   "source": [
    "df=pd.read_csv(\"aac_shelter_outcomes.csv\")"
   ]
  },
  {
   "cell_type": "code",
   "execution_count": 110,
   "metadata": {},
   "outputs": [
    {
     "data": {
      "text/html": [
       "<div>\n",
       "<style scoped>\n",
       "    .dataframe tbody tr th:only-of-type {\n",
       "        vertical-align: middle;\n",
       "    }\n",
       "\n",
       "    .dataframe tbody tr th {\n",
       "        vertical-align: top;\n",
       "    }\n",
       "\n",
       "    .dataframe thead th {\n",
       "        text-align: right;\n",
       "    }\n",
       "</style>\n",
       "<table border=\"1\" class=\"dataframe\">\n",
       "  <thead>\n",
       "    <tr style=\"text-align: right;\">\n",
       "      <th></th>\n",
       "      <th>age_upon_outcome</th>\n",
       "      <th>animal_id</th>\n",
       "      <th>animal_type</th>\n",
       "      <th>breed</th>\n",
       "      <th>color</th>\n",
       "      <th>date_of_birth</th>\n",
       "      <th>datetime</th>\n",
       "      <th>monthyear</th>\n",
       "      <th>name</th>\n",
       "      <th>outcome_subtype</th>\n",
       "      <th>outcome_type</th>\n",
       "      <th>sex_upon_outcome</th>\n",
       "    </tr>\n",
       "  </thead>\n",
       "  <tbody>\n",
       "    <tr>\n",
       "      <th>0</th>\n",
       "      <td>2 weeks</td>\n",
       "      <td>A684346</td>\n",
       "      <td>Cat</td>\n",
       "      <td>Domestic Shorthair Mix</td>\n",
       "      <td>Orange Tabby</td>\n",
       "      <td>2014-07-07T00:00:00</td>\n",
       "      <td>2014-07-22T16:04:00</td>\n",
       "      <td>2014-07-22T16:04:00</td>\n",
       "      <td>NaN</td>\n",
       "      <td>Partner</td>\n",
       "      <td>Transfer</td>\n",
       "      <td>Intact Male</td>\n",
       "    </tr>\n",
       "    <tr>\n",
       "      <th>1</th>\n",
       "      <td>1 year</td>\n",
       "      <td>A666430</td>\n",
       "      <td>Dog</td>\n",
       "      <td>Beagle Mix</td>\n",
       "      <td>White/Brown</td>\n",
       "      <td>2012-11-06T00:00:00</td>\n",
       "      <td>2013-11-07T11:47:00</td>\n",
       "      <td>2013-11-07T11:47:00</td>\n",
       "      <td>Lucy</td>\n",
       "      <td>Partner</td>\n",
       "      <td>Transfer</td>\n",
       "      <td>Spayed Female</td>\n",
       "    </tr>\n",
       "    <tr>\n",
       "      <th>2</th>\n",
       "      <td>1 year</td>\n",
       "      <td>A675708</td>\n",
       "      <td>Dog</td>\n",
       "      <td>Pit Bull</td>\n",
       "      <td>Blue/White</td>\n",
       "      <td>2013-03-31T00:00:00</td>\n",
       "      <td>2014-06-03T14:20:00</td>\n",
       "      <td>2014-06-03T14:20:00</td>\n",
       "      <td>*Johnny</td>\n",
       "      <td>NaN</td>\n",
       "      <td>Adoption</td>\n",
       "      <td>Neutered Male</td>\n",
       "    </tr>\n",
       "    <tr>\n",
       "      <th>3</th>\n",
       "      <td>9 years</td>\n",
       "      <td>A680386</td>\n",
       "      <td>Dog</td>\n",
       "      <td>Miniature Schnauzer Mix</td>\n",
       "      <td>White</td>\n",
       "      <td>2005-06-02T00:00:00</td>\n",
       "      <td>2014-06-15T15:50:00</td>\n",
       "      <td>2014-06-15T15:50:00</td>\n",
       "      <td>Monday</td>\n",
       "      <td>Partner</td>\n",
       "      <td>Transfer</td>\n",
       "      <td>Neutered Male</td>\n",
       "    </tr>\n",
       "    <tr>\n",
       "      <th>4</th>\n",
       "      <td>5 months</td>\n",
       "      <td>A683115</td>\n",
       "      <td>Other</td>\n",
       "      <td>Bat Mix</td>\n",
       "      <td>Brown</td>\n",
       "      <td>2014-01-07T00:00:00</td>\n",
       "      <td>2014-07-07T14:04:00</td>\n",
       "      <td>2014-07-07T14:04:00</td>\n",
       "      <td>NaN</td>\n",
       "      <td>Rabies Risk</td>\n",
       "      <td>Euthanasia</td>\n",
       "      <td>Unknown</td>\n",
       "    </tr>\n",
       "  </tbody>\n",
       "</table>\n",
       "</div>"
      ],
      "text/plain": [
       "  age_upon_outcome animal_id animal_type                    breed  \\\n",
       "0          2 weeks   A684346         Cat   Domestic Shorthair Mix   \n",
       "1           1 year   A666430         Dog               Beagle Mix   \n",
       "2           1 year   A675708         Dog                 Pit Bull   \n",
       "3          9 years   A680386         Dog  Miniature Schnauzer Mix   \n",
       "4         5 months   A683115       Other                  Bat Mix   \n",
       "\n",
       "          color        date_of_birth             datetime  \\\n",
       "0  Orange Tabby  2014-07-07T00:00:00  2014-07-22T16:04:00   \n",
       "1   White/Brown  2012-11-06T00:00:00  2013-11-07T11:47:00   \n",
       "2    Blue/White  2013-03-31T00:00:00  2014-06-03T14:20:00   \n",
       "3         White  2005-06-02T00:00:00  2014-06-15T15:50:00   \n",
       "4         Brown  2014-01-07T00:00:00  2014-07-07T14:04:00   \n",
       "\n",
       "             monthyear     name outcome_subtype outcome_type sex_upon_outcome  \n",
       "0  2014-07-22T16:04:00      NaN         Partner     Transfer      Intact Male  \n",
       "1  2013-11-07T11:47:00     Lucy         Partner     Transfer    Spayed Female  \n",
       "2  2014-06-03T14:20:00  *Johnny             NaN     Adoption    Neutered Male  \n",
       "3  2014-06-15T15:50:00   Monday         Partner     Transfer    Neutered Male  \n",
       "4  2014-07-07T14:04:00      NaN     Rabies Risk   Euthanasia          Unknown  "
      ]
     },
     "execution_count": 110,
     "metadata": {},
     "output_type": "execute_result"
    }
   ],
   "source": [
    "df.head()"
   ]
  },
  {
   "cell_type": "code",
   "execution_count": 111,
   "metadata": {},
   "outputs": [
    {
     "data": {
      "text/plain": [
       "array(['Cat', 'Dog', 'Other', 'Bird', 'Livestock'], dtype=object)"
      ]
     },
     "execution_count": 111,
     "metadata": {},
     "output_type": "execute_result"
    }
   ],
   "source": [
    "df.animal_type.unique()"
   ]
  },
  {
   "cell_type": "code",
   "execution_count": 112,
   "metadata": {},
   "outputs": [
    {
     "data": {
      "text/plain": [
       "<matplotlib.axes._subplots.AxesSubplot at 0x22b72908be0>"
      ]
     },
     "execution_count": 112,
     "metadata": {},
     "output_type": "execute_result"
    },
    {
     "data": {
      "image/png": "[encoded data removed]",
      "text/plain": [
       "<matplotlib.figure.Figure at 0x22b729059e8>"
      ]
     },
     "metadata": {},
     "output_type": "display_data"
    }
   ],
   "source": [
    "sns.countplot(y=df[\"animal_type\"])"
   ]
  },
  {
   "cell_type": "code",
   "execution_count": 113,
   "metadata": {},
   "outputs": [
    {
     "data": {
      "text/plain": [
       "array(['Cat', 'Dog'], dtype=object)"
      ]
     },
     "execution_count": 113,
     "metadata": {},
     "output_type": "execute_result"
    }
   ],
   "source": [
    "data=df[df[\"animal_type\"]==\"Cat\"]\n",
    "data=data.append(df[df[\"animal_type\"]==\"Dog\"])\n",
    "data.animal_type.unique()"
   ]
  },
  {
   "cell_type": "code",
   "execution_count": 114,
   "metadata": {},
   "outputs": [
    {
     "data": {
      "text/plain": [
       "(73664, 12)"
      ]
     },
     "execution_count": 114,
     "metadata": {},
     "output_type": "execute_result"
    }
   ],
   "source": [
    "data.shape"
   ]
  },
  {
   "cell_type": "code",
   "execution_count": 115,
   "metadata": {},
   "outputs": [
    {
     "data": {
      "text/plain": [
       "Index(['age_upon_outcome', 'animal_id', 'animal_type', 'breed', 'color',\n",
       "       'date_of_birth', 'datetime', 'monthyear', 'name', 'outcome_subtype',\n",
       "       'outcome_type', 'sex_upon_outcome'],\n",
       "      dtype='object')"
      ]
     },
     "execution_count": 115,
     "metadata": {},
     "output_type": "execute_result"
    }
   ],
   "source": [
    "data.keys()"
   ]
  },
  {
   "cell_type": "code",
   "execution_count": 116,
   "metadata": {},
   "outputs": [],
   "source": [
    "data=data.drop([\"animal_id\",\"name\",\"outcome_subtype\",\"date_of_birth\"],axis=1)"
   ]
  },
  {
   "cell_type": "code",
   "execution_count": 117,
   "metadata": {},
   "outputs": [
    {
     "data": {
      "text/plain": [
       "<matplotlib.axes._subplots.AxesSubplot at 0x22b72905c50>"
      ]
     },
     "execution_count": 117,
     "metadata": {},
     "output_type": "execute_result"
    },
    {
     "data": {
      "image/png": "[encoded data removed]",
      "text/plain": [
       "<matplotlib.figure.Figure at 0x22b72927828>"
      ]
     },
     "metadata": {},
     "output_type": "display_data"
    }
   ],
   "source": [
    "sns.countplot(y=data[\"outcome_type\"])"
   ]
  },
  {
   "cell_type": "code",
   "execution_count": 118,
   "metadata": {},
   "outputs": [
    {
     "name": "stdout",
     "output_type": "stream",
     "text": [
      "Transfer (22841, 8)\n",
      "Adoption (32784, 8)\n",
      "Return to Owner (14306, 8)\n",
      "Died (541, 8)\n",
      "Euthanasia (2957, 8)\n",
      "Missing (45, 8)\n",
      "Disposal (33, 8)\n",
      "Rto-Adopt (150, 8)\n",
      "nan (0, 8)\n"
     ]
    }
   ],
   "source": [
    "for i in data[\"outcome_type\"].unique():\n",
    "    print(i,data[data[\"outcome_type\"]==i].shape)\n",
    "data=data[data[\"outcome_type\"]!=\"Missing\"]\n",
    "data=data[data[\"outcome_type\"]!=\"Rto-Adopt\"]\n",
    "data=data[data[\"outcome_type\"]!=\"Disposal\"]"
   ]
  },
  {
   "cell_type": "code",
   "execution_count": 119,
   "metadata": {},
   "outputs": [
    {
     "name": "stdout",
     "output_type": "stream",
     "text": [
      "(12, 8)\n"
     ]
    }
   ],
   "source": [
    "print(data[data.isnull().any(axis=1)].shape)\n",
    "data=data.dropna(axis=0, how='any')"
   ]
  },
  {
   "cell_type": "code",
   "execution_count": 120,
   "metadata": {},
   "outputs": [
    {
     "data": {
      "text/plain": [
       "(73424, 8)"
      ]
     },
     "execution_count": 120,
     "metadata": {},
     "output_type": "execute_result"
    }
   ],
   "source": [
    "data.shape"
   ]
  },
  {
   "cell_type": "code",
   "execution_count": 121,
   "metadata": {},
   "outputs": [
    {
     "data": {
      "text/plain": [
       "(73424, 8)"
      ]
     },
     "execution_count": 121,
     "metadata": {},
     "output_type": "execute_result"
    }
   ],
   "source": [
    "data.shape"
   ]
  },
  {
   "cell_type": "code",
   "execution_count": null,
   "metadata": {},
   "outputs": [],
   "source": []
  },
  {
   "cell_type": "code",
   "execution_count": null,
   "metadata": {},
   "outputs": [],
   "source": []
  },
  {
   "cell_type": "code",
   "execution_count": null,
   "metadata": {},
   "outputs": [],
   "source": []
  },
  {
   "cell_type": "code",
   "execution_count": null,
   "metadata": {},
   "outputs": [],
   "source": []
  },
  {
   "cell_type": "code",
   "execution_count": null,
   "metadata": {},
   "outputs": [],
   "source": []
  },
  {
   "cell_type": "code",
   "execution_count": null,
   "metadata": {},
   "outputs": [],
   "source": [
    " "
   ]
  },
  {
   "cell_type": "code",
   "execution_count": null,
   "metadata": {},
   "outputs": [],
   "source": []
  },
  {
   "cell_type": "code",
   "execution_count": 122,
   "metadata": {},
   "outputs": [],
   "source": [
    "def get_day(x):\n",
    "    return datetime.datetime.strptime(x[:10], '%Y-%m-%d').strftime('%a')\n",
    "\n",
    "def conv_age(a):\n",
    "    age=int(\"\".join(list(filter(str.isdigit, a))))\n",
    "    if(a.find(\"month\")):\n",
    "        return age*30\n",
    "    if(a.find(\"week\")):\n",
    "        return age*7\n",
    "    if(a.find(\"day\")):\n",
    "        return age\n",
    "    if(a.find(\"year\")):\n",
    "        return age*365\n",
    "    return 0\n",
    "def get_gender(x):\n",
    "    if(x.find(\"Female\")>=0):\n",
    "        return \"Female\"\n",
    "    if(x.find(\"Male\")>=0):\n",
    "        return \"Male\"\n",
    "    \n",
    "    return None\n",
    "def get_ifSpayed(x):\n",
    "    if(x.find(\"Intact\")>=0):\n",
    "        return \"No\"\n",
    "    if(x.find(\"Spayed\")>=0):\n",
    "        return \"Yes\"\n",
    "    if(x.find(\"Neutered\")>=0):\n",
    "        return \"Yes\"\n",
    "    return None\n",
    "\n",
    "def get_time(x):\n",
    "    if(int(x[11:13])<6):\n",
    "        return \"Night\"\n",
    "    if(int(x[11:13])<12):\n",
    "        return \"Morning\"\n",
    "    if(int(x[11:13])<18):\n",
    "        return \"Afternoon\"\n",
    "    if(int(x[11:13])<20):\n",
    "        return \"Evening\"\n",
    "    return \"Night\"\n",
    "def age(x):\n",
    "    if(x<=180):\n",
    "        return \"Puppy\"\n",
    "    if(x<=720):\n",
    "        return \"Adolescent\"\n",
    "    if(x<=2920):\n",
    "        return \"Adult\"\n",
    "    return \"Senior\" \n",
    "data[\"day\"]=data[\"datetime\"].apply(get_day)\n",
    "data[\"age_in_days\"]=data[\"age_upon_outcome\"].apply(conv_age)\n",
    "data[\"sex\"]=data[\"sex_upon_outcome\"].apply(get_gender)\n",
    "data[\"IsSpayed\"]=data[\"sex_upon_outcome\"].apply(get_ifSpayed)        \n",
    "data[\"Time\"]=data[\"datetime\"].apply(get_time)\n",
    "#data[\"Life_stage\"]=data[\"age_in_days\"].apply(age)"
   ]
  },
  {
   "cell_type": "code",
   "execution_count": 123,
   "metadata": {},
   "outputs": [
    {
     "name": "stdout",
     "output_type": "stream",
     "text": [
      "(2749, 13)\n"
     ]
    }
   ],
   "source": [
    "print(data[data.isnull().any(axis=1)].shape)\n",
    "data=data.dropna(axis=0, how='any')"
   ]
  },
  {
   "cell_type": "code",
   "execution_count": null,
   "metadata": {},
   "outputs": [],
   "source": []
  },
  {
   "cell_type": "code",
   "execution_count": 124,
   "metadata": {},
   "outputs": [
    {
     "data": {
      "text/html": [
       "<div>\n",
       "<style scoped>\n",
       "    .dataframe tbody tr th:only-of-type {\n",
       "        vertical-align: middle;\n",
       "    }\n",
       "\n",
       "    .dataframe tbody tr th {\n",
       "        vertical-align: top;\n",
       "    }\n",
       "\n",
       "    .dataframe thead th {\n",
       "        text-align: right;\n",
       "    }\n",
       "</style>\n",
       "<table border=\"1\" class=\"dataframe\">\n",
       "  <thead>\n",
       "    <tr style=\"text-align: right;\">\n",
       "      <th></th>\n",
       "      <th>outcome_type</th>\n",
       "      <th>day</th>\n",
       "      <th>sex</th>\n",
       "      <th>IsSpayed</th>\n",
       "      <th>Time</th>\n",
       "    </tr>\n",
       "  </thead>\n",
       "  <tbody>\n",
       "    <tr>\n",
       "      <th>1</th>\n",
       "      <td>Transfer</td>\n",
       "      <td>Thu</td>\n",
       "      <td>Female</td>\n",
       "      <td>Yes</td>\n",
       "      <td>Morning</td>\n",
       "    </tr>\n",
       "    <tr>\n",
       "      <th>2</th>\n",
       "      <td>Adoption</td>\n",
       "      <td>Tue</td>\n",
       "      <td>Male</td>\n",
       "      <td>Yes</td>\n",
       "      <td>Afternoon</td>\n",
       "    </tr>\n",
       "    <tr>\n",
       "      <th>3</th>\n",
       "      <td>Transfer</td>\n",
       "      <td>Sun</td>\n",
       "      <td>Male</td>\n",
       "      <td>Yes</td>\n",
       "      <td>Afternoon</td>\n",
       "    </tr>\n",
       "    <tr>\n",
       "      <th>5</th>\n",
       "      <td>Transfer</td>\n",
       "      <td>Mon</td>\n",
       "      <td>Male</td>\n",
       "      <td>No</td>\n",
       "      <td>Afternoon</td>\n",
       "    </tr>\n",
       "    <tr>\n",
       "      <th>7</th>\n",
       "      <td>Transfer</td>\n",
       "      <td>Mon</td>\n",
       "      <td>Female</td>\n",
       "      <td>Yes</td>\n",
       "      <td>Afternoon</td>\n",
       "    </tr>\n",
       "  </tbody>\n",
       "</table>\n",
       "</div>"
      ],
      "text/plain": [
       "  outcome_type  day     sex IsSpayed       Time\n",
       "1     Transfer  Thu  Female      Yes    Morning\n",
       "2     Adoption  Tue    Male      Yes  Afternoon\n",
       "3     Transfer  Sun    Male      Yes  Afternoon\n",
       "5     Transfer  Mon    Male       No  Afternoon\n",
       "7     Transfer  Mon  Female      Yes  Afternoon"
      ]
     },
     "execution_count": 124,
     "metadata": {},
     "output_type": "execute_result"
    }
   ],
   "source": [
    "data_class=data.drop([\"age_upon_outcome\",\"datetime\",\"monthyear\",\"sex_upon_outcome\",\"breed\",\"color\",\"age_in_days\"],axis=1)\n",
    "data_class.head()\n",
    "cat_c=data_class[data_class[\"animal_type\"]==\"Cat\"]\n",
    "dog_c=data_class[data_class[\"animal_type\"]==\"Dog\"]\n",
    "cat_c=cat_c.drop(\"animal_type\",axis=1)\n",
    "dog_c=dog_c.drop(\"animal_type\",axis=1)\n",
    "dog_c.head()"
   ]
  },
  {
   "cell_type": "code",
   "execution_count": null,
   "metadata": {},
   "outputs": [],
   "source": []
  },
  {
   "cell_type": "code",
   "execution_count": null,
   "metadata": {},
   "outputs": [],
   "source": []
  },
  {
   "cell_type": "code",
   "execution_count": 125,
   "metadata": {},
   "outputs": [],
   "source": [
    "#from sklearn.preprocessing import LabelEncoder,OneHotEncoder\n",
    "#lenc=LabelEncoder()\n",
    "#ohenc=OneHotEncoder()\n",
    "#data[\"sex_p\"]=lenc.fit_transform(data.sex)\n",
    "#data[\"neutered_p\"]=lenc.fit_transform(data.IsSpayed)"
   ]
  },
  {
   "cell_type": "code",
   "execution_count": null,
   "metadata": {},
   "outputs": [],
   "source": []
  },
  {
   "cell_type": "code",
   "execution_count": null,
   "metadata": {},
   "outputs": [],
   "source": []
  },
  {
   "cell_type": "code",
   "execution_count": null,
   "metadata": {},
   "outputs": [],
   "source": []
  },
  {
   "cell_type": "code",
   "execution_count": null,
   "metadata": {},
   "outputs": [],
   "source": []
  },
  {
   "cell_type": "markdown",
   "metadata": {},
   "source": []
  },
  {
   "cell_type": "code",
   "execution_count": 126,
   "metadata": {},
   "outputs": [],
   "source": [
    "#data=data.drop([\"sex\",\"IsSpayed\"],axis=1)"
   ]
  },
  {
   "cell_type": "code",
   "execution_count": 127,
   "metadata": {},
   "outputs": [],
   "source": [
    "#cat=data[data[\"animal_type\"]==\"Cat\"]\n",
    "#dog=data[data[\"animal_type\"]==\"Dog\"]\n",
    "#dog=dog.drop(\"animal_type\",axis=1)\n",
    "#cat=cat.drop(\"animal_type\",axis=1)\n",
    "#g = sns.FacetGrid(data, col=\"animal_type\",size=8)\n",
    "#g.map(sns.countplot, \"outcome_type\")\n",
    "#g.add_legend();"
   ]
  },
  {
   "cell_type": "code",
   "execution_count": 128,
   "metadata": {
    "scrolled": true
   },
   "outputs": [
    {
     "data": {
      "text/plain": [
       "<matplotlib.axes._subplots.AxesSubplot at 0x22b748e0ba8>"
      ]
     },
     "execution_count": 128,
     "metadata": {},
     "output_type": "execute_result"
    },
    {
     "data": {
      "image/png": "[encoded data removed]",
      "text/plain": [
       "<matplotlib.figure.Figure at 0x22b74d278d0>"
      ]
     },
     "metadata": {},
     "output_type": "display_data"
    }
   ],
   "source": [
    "\n",
    "fig, axs = plt.subplots(figsize=(16,5),ncols=2)\n",
    "sns.countplot(x=\"Time\",hue=\"outcome_type\",order=[\"Morning\",\"Afternoon\",\"Evening\",\"Night\"],data=dog_c,ax=axs[0])\n",
    "sns.countplot(x=\"Time\",hue=\"outcome_type\",order=[\"Morning\",\"Afternoon\",\"Evening\",\"Night\"],data=cat_c,ax=axs[1])"
   ]
  },
  {
   "cell_type": "markdown",
   "metadata": {},
   "source": [
    "We can see that most of the traffic in the Shelter seems to be in the afternoon"
   ]
  },
  {
   "cell_type": "code",
   "execution_count": 135,
   "metadata": {},
   "outputs": [
    {
     "data": {
      "text/plain": [
       "<matplotlib.axes._subplots.AxesSubplot at 0x22b754dde10>"
      ]
     },
     "execution_count": 135,
     "metadata": {},
     "output_type": "execute_result"
    },
    {
     "data": {
      "image/png": "[encoded data removed]",
      "text/plain": [
       "<matplotlib.figure.Figure at 0x22b754910f0>"
      ]
     },
     "metadata": {},
     "output_type": "display_data"
    }
   ],
   "source": [
    "\n",
    "#fig, axs = plt.subplots(figsize=(16,5),ncols=1)\n",
    "sns.countplot(x=\"animal_type\",hue=\"outcome_type\",data=data_class)\n",
    "#sns.countplot(x=\"animal_type\",hue=\"outcome_type\",order=[\"Morning\",\"Afternoon\",\"Evening\",\"Night\"],data=cat_c,ax=axs[1])"
   ]
  },
  {
   "cell_type": "code",
   "execution_count": 137,
   "metadata": {},
   "outputs": [
    {
     "data": {
      "text/plain": [
       "<matplotlib.axes._subplots.AxesSubplot at 0x22b76c9d048>"
      ]
     },
     "execution_count": 137,
     "metadata": {},
     "output_type": "execute_result"
    },
    {
     "data": {
      "image/png": "[encoded data removed]",
      "text/plain": [
       "<matplotlib.figure.Figure at 0x22b755b6b38>"
      ]
     },
     "metadata": {},
     "output_type": "display_data"
    }
   ],
   "source": [
    "fig, axs = plt.subplots(figsize=(16,5),ncols=2)\n",
    "sns.countplot(x=\"sex\",hue=\"outcome_type\",data=dog_c,ax=axs[0])\n",
    "sns.countplot(x=\"sex\",hue=\"outcome_type\",data=cat_c,ax=axs[1])"
   ]
  },
  {
   "cell_type": "code",
   "execution_count": 142,
   "metadata": {},
   "outputs": [
    {
     "data": {
      "text/plain": [
       "<matplotlib.axes._subplots.AxesSubplot at 0x22b687c6a90>"
      ]
     },
     "execution_count": 142,
     "metadata": {},
     "output_type": "execute_result"
    },
    {
     "data": {
      "image/png": "[encoded data removed]",
      "text/plain": [
       "<matplotlib.figure.Figure at 0x22b68718080>"
      ]
     },
     "metadata": {},
     "output_type": "display_data"
    }
   ],
   "source": [
    "fig, axs = plt.subplots(figsize=(16,5),ncols=2)\n",
    "sns.countplot(x=\"day\",order=[\"Mon\",\"Tue\",\"Wed\",\"Thu\",\"Fri\",\"Thu\",\"Fri\",\"Sat\",\"Sun\"],data=dog_c,ax=axs[0])\n",
    "sns.countplot(x=\"day\",order=[\"Mon\",\"Tue\",\"Wed\",\"Thu\",\"Fri\",\"Thu\",\"Fri\",\"Sat\",\"Sun\"],data=cat_c,ax=axs[1])"
   ]
  },
  {
   "cell_type": "code",
   "execution_count": 143,
   "metadata": {},
   "outputs": [
    {
     "data": {
      "text/plain": [
       "<matplotlib.axes._subplots.AxesSubplot at 0x22b771ac198>"
      ]
     },
     "execution_count": 143,
     "metadata": {},
     "output_type": "execute_result"
    },
    {
     "data": {
      "image/png": "[encoded data removed]",
      "text/plain": [
       "<matplotlib.figure.Figure at 0x22b7710e160>"
      ]
     },
     "metadata": {},
     "output_type": "display_data"
    }
   ],
   "source": [
    "fig, axs = plt.subplots(figsize=(16,5),ncols=2)\n",
    "sns.countplot(x=\"day\",hue=\"outcome_type\",order=[\"Mon\",\"Tue\",\"Wed\",\"Thu\",\"Fri\",\"Thu\",\"Fri\",\"Sat\",\"Sun\"],data=dog_c,ax=axs[0])\n",
    "sns.countplot(x=\"day\",hue=\"outcome_type\",order=[\"Mon\",\"Tue\",\"Wed\",\"Thu\",\"Fri\",\"Thu\",\"Fri\",\"Sat\",\"Sun\"],data=cat_c,ax=axs[1])"
   ]
  },
  {
   "cell_type": "markdown",
   "metadata": {},
   "source": [
    "We can clearly see that the rate of adoption surges in the weekends(a lot in cat compared to even dog's adoption rate), while the other outcomes remain stable."
   ]
  },
  {
   "cell_type": "code",
   "execution_count": null,
   "metadata": {},
   "outputs": [],
   "source": [
    "fig, axs = plt.subplots(figsize=(16,5),ncols=2)\n",
    "sns.countplot(x=\"day\",hue=\"outcome_type\",order=[\"Mon\",\"Tue\",\"Wed\",\"Thu\",\"Fri\",\"Thu\",\"Fri\",\"Sat\",\"Sun\"],data=dog_c,ax=axs[0])\n",
    "sns.countplot(x=\"day\",hue=\"outcome_type\",order=[\"Mon\",\"Tue\",\"Wed\",\"Thu\",\"Fri\",\"Thu\",\"Fri\",\"Sat\",\"Sun\"],data=cat_c,ax=axs[1])"
   ]
  },
  {
   "cell_type": "code",
   "execution_count": null,
   "metadata": {},
   "outputs": [],
   "source": []
  },
  {
   "cell_type": "code",
   "execution_count": 144,
   "metadata": {},
   "outputs": [
    {
     "data": {
      "text/plain": [
       "Index(['animal_type', 'outcome_type', 'day', 'sex', 'IsSpayed', 'Time'], dtype='object')"
      ]
     },
     "execution_count": 144,
     "metadata": {},
     "output_type": "execute_result"
    }
   ],
   "source": [
    "data_class.keys()"
   ]
  },
  {
   "cell_type": "code",
   "execution_count": null,
   "metadata": {},
   "outputs": [],
   "source": []
  },
  {
   "cell_type": "code",
   "execution_count": null,
   "metadata": {},
   "outputs": [],
   "source": []
  },
  {
   "cell_type": "code",
   "execution_count": null,
   "metadata": {},
   "outputs": [],
   "source": []
  },
  {
   "cell_type": "code",
   "execution_count": null,
   "metadata": {},
   "outputs": [],
   "source": []
  },
  {
   "cell_type": "code",
   "execution_count": null,
   "metadata": {},
   "outputs": [],
   "source": []
  },
  {
   "cell_type": "code",
   "execution_count": null,
   "metadata": {},
   "outputs": [],
   "source": []
  },
  {
   "cell_type": "code",
   "execution_count": null,
   "metadata": {},
   "outputs": [],
   "source": []
  },
  {
   "cell_type": "code",
   "execution_count": null,
   "metadata": {},
   "outputs": [],
   "source": []
  },
  {
   "cell_type": "code",
   "execution_count": 30,
   "metadata": {},
   "outputs": [],
   "source": []
  },
  {
   "cell_type": "code",
   "execution_count": null,
   "metadata": {},
   "outputs": [],
   "source": []
  },
  {
   "cell_type": "code",
   "execution_count": 31,
   "metadata": {},
   "outputs": [],
   "source": []
  },
  {
   "cell_type": "code",
   "execution_count": 32,
   "metadata": {},
   "outputs": [],
   "source": []
  },
  {
   "cell_type": "code",
   "execution_count": 33,
   "metadata": {},
   "outputs": [
    {
     "data": {
      "text/plain": [
       "<seaborn.axisgrid.PairGrid at 0x1f36f526dd8>"
      ]
     },
     "execution_count": 33,
     "metadata": {},
     "output_type": "execute_result"
    },
    {
     "data": {
      "image/png": "[encoded data removed]",
      "text/plain": [
       "<matplotlib.figure.Figure at 0x1f36f526630>"
      ]
     },
     "metadata": {},
     "output_type": "display_data"
    }
   ],
   "source": []
  },
  {
   "cell_type": "code",
   "execution_count": 33,
   "metadata": {},
   "outputs": [
    {
     "name": "stderr",
     "output_type": "stream",
     "text": [
      "C:\\Users\\rollaball\\Miniconda3\\lib\\site-packages\\ipykernel_launcher.py:1: FutureWarning: reshape is deprecated and will raise in a subsequent release. Please use .values.reshape(...) instead\n",
      "  \"\"\"Entry point for launching an IPython kernel.\n",
      "C:\\Users\\rollaball\\Miniconda3\\lib\\site-packages\\ipykernel_launcher.py:2: FutureWarning: reshape is deprecated and will raise in a subsequent release. Please use .values.reshape(...) instead\n",
      "  \n"
     ]
    }
   ],
   "source": [
    "#day_cat=ohenc.fit_transform(cat.day.reshape(-1,1))\n",
    "#day_dog=ohenc.fit_transform(dog.day.reshape(-1,1))"
   ]
  },
  {
   "cell_type": "code",
   "execution_count": 35,
   "metadata": {},
   "outputs": [
    {
     "data": {
      "text/html": [
       "<div>\n",
       "<style scoped>\n",
       "    .dataframe tbody tr th:only-of-type {\n",
       "        vertical-align: middle;\n",
       "    }\n",
       "\n",
       "    .dataframe tbody tr th {\n",
       "        vertical-align: top;\n",
       "    }\n",
       "\n",
       "    .dataframe thead th {\n",
       "        text-align: right;\n",
       "    }\n",
       "</style>\n",
       "<table border=\"1\" class=\"dataframe\">\n",
       "  <thead>\n",
       "    <tr style=\"text-align: right;\">\n",
       "      <th></th>\n",
       "      <th>outcome_type</th>\n",
       "      <th>age_in_days</th>\n",
       "      <th>day</th>\n",
       "      <th>sex_p</th>\n",
       "      <th>neutered_p</th>\n",
       "      <th>tim</th>\n",
       "    </tr>\n",
       "  </thead>\n",
       "  <tbody>\n",
       "    <tr>\n",
       "      <th>1</th>\n",
       "      <td>Transfer</td>\n",
       "      <td>30</td>\n",
       "      <td>4</td>\n",
       "      <td>0</td>\n",
       "      <td>1</td>\n",
       "      <td>2</td>\n",
       "    </tr>\n",
       "    <tr>\n",
       "      <th>2</th>\n",
       "      <td>Adoption</td>\n",
       "      <td>30</td>\n",
       "      <td>2</td>\n",
       "      <td>1</td>\n",
       "      <td>1</td>\n",
       "      <td>0</td>\n",
       "    </tr>\n",
       "    <tr>\n",
       "      <th>3</th>\n",
       "      <td>Transfer</td>\n",
       "      <td>270</td>\n",
       "      <td>0</td>\n",
       "      <td>1</td>\n",
       "      <td>1</td>\n",
       "      <td>0</td>\n",
       "    </tr>\n",
       "    <tr>\n",
       "      <th>5</th>\n",
       "      <td>Transfer</td>\n",
       "      <td>120</td>\n",
       "      <td>1</td>\n",
       "      <td>1</td>\n",
       "      <td>0</td>\n",
       "      <td>0</td>\n",
       "    </tr>\n",
       "    <tr>\n",
       "      <th>7</th>\n",
       "      <td>Transfer</td>\n",
       "      <td>90</td>\n",
       "      <td>1</td>\n",
       "      <td>0</td>\n",
       "      <td>1</td>\n",
       "      <td>0</td>\n",
       "    </tr>\n",
       "  </tbody>\n",
       "</table>\n",
       "</div>"
      ],
      "text/plain": [
       "  outcome_type  age_in_days  day  sex_p  neutered_p  tim\n",
       "1     Transfer           30    4      0           1    2\n",
       "2     Adoption           30    2      1           1    0\n",
       "3     Transfer          270    0      1           1    0\n",
       "5     Transfer          120    1      1           0    0\n",
       "7     Transfer           90    1      0           1    0"
      ]
     },
     "execution_count": 35,
     "metadata": {},
     "output_type": "execute_result"
    }
   ],
   "source": []
  },
  {
   "cell_type": "code",
   "execution_count": 36,
   "metadata": {},
   "outputs": [],
   "source": []
  },
  {
   "cell_type": "code",
   "execution_count": null,
   "metadata": {},
   "outputs": [],
   "source": []
  },
  {
   "cell_type": "code",
   "execution_count": null,
   "metadata": {},
   "outputs": [],
   "source": []
  },
  {
   "cell_type": "code",
   "execution_count": null,
   "metadata": {},
   "outputs": [],
   "source": []
  },
  {
   "cell_type": "code",
   "execution_count": null,
   "metadata": {},
   "outputs": [],
   "source": []
  },
  {
   "cell_type": "code",
   "execution_count": 48,
   "metadata": {},
   "outputs": [
    {
     "data": {
      "text/plain": [
       "[(0.696078431372549, 0.30000000000000004, 0.30392156862745096),\n",
       " (0.34215686274509804, 0.4813725490196079, 0.5950980392156863),\n",
       " (0.3950980392156863, 0.5872549019607843, 0.38921568627450986),\n",
       " (0.5343137254901962, 0.38921568627450975, 0.5558823529411765),\n",
       " (0.75, 0.49901960784313726, 0.25),\n",
       " (0.8, 0.8, 0.3999999999999999),\n",
       " (0.5274509803921569, 0.37058823529411766, 0.2803921568627451),\n",
       " (0.8529411764705883, 0.6215686274509804, 0.7431372549019608)]"
      ]
     },
     "execution_count": 48,
     "metadata": {},
     "output_type": "execute_result"
    }
   ],
   "source": [
    "sns.color_palette(\"Set1\", n_colors=8, desat=.5)"
   ]
  },
  {
   "cell_type": "code",
   "execution_count": null,
   "metadata": {},
   "outputs": [],
   "source": []
  },
  {
   "cell_type": "code",
   "execution_count": 34,
   "metadata": {},
   "outputs": [],
   "source": [
    "final_dog=np.array(dog[[\"age_in_days\"]])\n",
    "final_cat=np.array(cat[[\"age_in_days\"]])"
   ]
  },
  {
   "cell_type": "code",
   "execution_count": 35,
   "metadata": {},
   "outputs": [],
   "source": [
    "final_cat=np.append(final_cat,day_cat.todense(),axis=1)\n",
    "final_cat=np.append(final_cat,hour_cat.todense(),axis=1)\n",
    "final_cat=np.append(final_cat,np.array(cat[[\"sex_p\",\"neutered_p\"]]),axis=1)\n",
    "final_dog=np.append(final_dog,day_dog.todense(),axis=1)\n",
    "final_dog=np.append(final_dog,hour_dog.todense(),axis=1)\n",
    "final_dog=np.append(final_dog,np.array(dog[[\"sex_p\",\"neutered_p\"]]),axis=1)"
   ]
  },
  {
   "cell_type": "code",
   "execution_count": 36,
   "metadata": {},
   "outputs": [
    {
     "data": {
      "text/plain": [
       "(43998, 14)"
      ]
     },
     "execution_count": 36,
     "metadata": {},
     "output_type": "execute_result"
    }
   ],
   "source": [
    "final_dog.shape"
   ]
  },
  {
   "cell_type": "code",
   "execution_count": 37,
   "metadata": {},
   "outputs": [
    {
     "data": {
      "text/plain": [
       "(26890, 14)"
      ]
     },
     "execution_count": 37,
     "metadata": {},
     "output_type": "execute_result"
    }
   ],
   "source": [
    "final_cat.shape"
   ]
  },
  {
   "cell_type": "code",
   "execution_count": 38,
   "metadata": {},
   "outputs": [
    {
     "data": {
      "text/plain": [
       "(26890, 8)"
      ]
     },
     "execution_count": 38,
     "metadata": {},
     "output_type": "execute_result"
    }
   ],
   "source": [
    "cat_outcome.todense().shape"
   ]
  },
  {
   "cell_type": "code",
   "execution_count": 39,
   "metadata": {},
   "outputs": [
    {
     "data": {
      "text/plain": [
       "DecisionTreeClassifier(class_weight=None, criterion='gini', max_depth=50,\n",
       "            max_features=None, max_leaf_nodes=None,\n",
       "            min_impurity_decrease=0.0, min_impurity_split=None,\n",
       "            min_samples_leaf=1, min_samples_split=2,\n",
       "            min_weight_fraction_leaf=0.0, presort=False, random_state=None,\n",
       "            splitter='best')"
      ]
     },
     "execution_count": 39,
     "metadata": {},
     "output_type": "execute_result"
    }
   ],
   "source": [
    "from sklearn.tree import DecisionTreeClassifier\n",
    "clf=DecisionTreeClassifier(max_depth=50)\n",
    "clf.fit(final_dog,dog_outcome.todense())"
   ]
  },
  {
   "cell_type": "code",
   "execution_count": 40,
   "metadata": {},
   "outputs": [],
   "source": [
    "predictions=clf.predict(final_dog)"
   ]
  },
  {
   "cell_type": "code",
   "execution_count": 41,
   "metadata": {},
   "outputs": [
    {
     "data": {
      "text/plain": [
       "0.4460202736488022"
      ]
     },
     "execution_count": 41,
     "metadata": {},
     "output_type": "execute_result"
    }
   ],
   "source": [
    "from sklearn.metrics import accuracy_score\n",
    "accuracy_score(predictions,dog_outcome)"
   ]
  },
  {
   "cell_type": "code",
   "execution_count": 42,
   "metadata": {},
   "outputs": [
    {
     "ename": "NameError",
     "evalue": "name 'hour' is not defined",
     "output_type": "error",
     "traceback": [
      "\u001b[1;31m---------------------------------------------------------------------------\u001b[0m",
      "\u001b[1;31mNameError\u001b[0m                                 Traceback (most recent call last)",
      "\u001b[1;32m<ipython-input-42-93d06e2e8d3e>\u001b[0m in \u001b[0;36m<module>\u001b[1;34m()\u001b[0m\n\u001b[1;32m----> 1\u001b[1;33m \u001b[0mhour\u001b[0m\u001b[1;33m[\u001b[0m\u001b[1;36m1\u001b[0m\u001b[1;33m]\u001b[0m\u001b[1;33m.\u001b[0m\u001b[0mtodense\u001b[0m\u001b[1;33m(\u001b[0m\u001b[1;33m)\u001b[0m\u001b[1;33m\u001b[0m\u001b[0m\n\u001b[0m",
      "\u001b[1;31mNameError\u001b[0m: name 'hour' is not defined"
     ]
    }
   ],
   "source": [
    "hour[1].todense()"
   ]
  },
  {
   "cell_type": "code",
   "execution_count": 43,
   "metadata": {},
   "outputs": [
    {
     "ename": "ValueError",
     "evalue": "bad input shape (43998, 8)",
     "output_type": "error",
     "traceback": [
      "\u001b[1;31m---------------------------------------------------------------------------\u001b[0m",
      "\u001b[1;31mValueError\u001b[0m                                Traceback (most recent call last)",
      "\u001b[1;32m<ipython-input-43-1daec9449cd7>\u001b[0m in \u001b[0;36m<module>\u001b[1;34m()\u001b[0m\n\u001b[0;32m     31\u001b[0m     QuadraticDiscriminantAnalysis()]\n\u001b[0;32m     32\u001b[0m \u001b[1;32mfor\u001b[0m \u001b[0mi\u001b[0m \u001b[1;32min\u001b[0m \u001b[0mclassifiers\u001b[0m\u001b[1;33m:\u001b[0m\u001b[1;33m\u001b[0m\u001b[0m\n\u001b[1;32m---> 33\u001b[1;33m     \u001b[0mi\u001b[0m\u001b[1;33m.\u001b[0m\u001b[0mfit\u001b[0m\u001b[1;33m(\u001b[0m\u001b[0mfinal_dog\u001b[0m\u001b[1;33m,\u001b[0m\u001b[0mdog_outcome\u001b[0m\u001b[1;33m.\u001b[0m\u001b[0mtodense\u001b[0m\u001b[1;33m(\u001b[0m\u001b[1;33m)\u001b[0m\u001b[1;33m)\u001b[0m\u001b[1;33m\u001b[0m\u001b[0m\n\u001b[0m\u001b[0;32m     34\u001b[0m     \u001b[0mpredictions\u001b[0m\u001b[1;33m=\u001b[0m\u001b[0mi\u001b[0m\u001b[1;33m.\u001b[0m\u001b[0mpredict\u001b[0m\u001b[1;33m(\u001b[0m\u001b[0mfinal_dog\u001b[0m\u001b[1;33m)\u001b[0m\u001b[1;33m\u001b[0m\u001b[0m\n\u001b[0;32m     35\u001b[0m     \u001b[0mprint\u001b[0m\u001b[1;33m(\u001b[0m\u001b[0mi\u001b[0m\u001b[1;33m,\u001b[0m\u001b[0maccuracy_score\u001b[0m\u001b[1;33m(\u001b[0m\u001b[0mpredictions\u001b[0m\u001b[1;33m,\u001b[0m\u001b[0mdog_outcome\u001b[0m\u001b[1;33m)\u001b[0m\u001b[1;33m)\u001b[0m\u001b[1;33m\u001b[0m\u001b[0m\n",
      "\u001b[1;32m~\\Miniconda3\\lib\\site-packages\\sklearn\\gaussian_process\\gpc.py\u001b[0m in \u001b[0;36mfit\u001b[1;34m(self, X, y)\u001b[0m\n\u001b[0;32m    585\u001b[0m         \u001b[0mself\u001b[0m \u001b[1;33m:\u001b[0m \u001b[0mreturns\u001b[0m \u001b[0man\u001b[0m \u001b[0minstance\u001b[0m \u001b[0mof\u001b[0m \u001b[0mself\u001b[0m\u001b[1;33m.\u001b[0m\u001b[1;33m\u001b[0m\u001b[0m\n\u001b[0;32m    586\u001b[0m         \"\"\"\n\u001b[1;32m--> 587\u001b[1;33m         \u001b[0mX\u001b[0m\u001b[1;33m,\u001b[0m \u001b[0my\u001b[0m \u001b[1;33m=\u001b[0m \u001b[0mcheck_X_y\u001b[0m\u001b[1;33m(\u001b[0m\u001b[0mX\u001b[0m\u001b[1;33m,\u001b[0m \u001b[0my\u001b[0m\u001b[1;33m,\u001b[0m \u001b[0mmulti_output\u001b[0m\u001b[1;33m=\u001b[0m\u001b[1;32mFalse\u001b[0m\u001b[1;33m)\u001b[0m\u001b[1;33m\u001b[0m\u001b[0m\n\u001b[0m\u001b[0;32m    588\u001b[0m \u001b[1;33m\u001b[0m\u001b[0m\n\u001b[0;32m    589\u001b[0m         self.base_estimator_ = _BinaryGaussianProcessClassifierLaplace(\n",
      "\u001b[1;32m~\\Miniconda3\\lib\\site-packages\\sklearn\\utils\\validation.py\u001b[0m in \u001b[0;36mcheck_X_y\u001b[1;34m(X, y, accept_sparse, dtype, order, copy, force_all_finite, ensure_2d, allow_nd, multi_output, ensure_min_samples, ensure_min_features, y_numeric, warn_on_dtype, estimator)\u001b[0m\n\u001b[0;32m    576\u001b[0m                         dtype=None)\n\u001b[0;32m    577\u001b[0m     \u001b[1;32melse\u001b[0m\u001b[1;33m:\u001b[0m\u001b[1;33m\u001b[0m\u001b[0m\n\u001b[1;32m--> 578\u001b[1;33m         \u001b[0my\u001b[0m \u001b[1;33m=\u001b[0m \u001b[0mcolumn_or_1d\u001b[0m\u001b[1;33m(\u001b[0m\u001b[0my\u001b[0m\u001b[1;33m,\u001b[0m \u001b[0mwarn\u001b[0m\u001b[1;33m=\u001b[0m\u001b[1;32mTrue\u001b[0m\u001b[1;33m)\u001b[0m\u001b[1;33m\u001b[0m\u001b[0m\n\u001b[0m\u001b[0;32m    579\u001b[0m         \u001b[0m_assert_all_finite\u001b[0m\u001b[1;33m(\u001b[0m\u001b[0my\u001b[0m\u001b[1;33m)\u001b[0m\u001b[1;33m\u001b[0m\u001b[0m\n\u001b[0;32m    580\u001b[0m     \u001b[1;32mif\u001b[0m \u001b[0my_numeric\u001b[0m \u001b[1;32mand\u001b[0m \u001b[0my\u001b[0m\u001b[1;33m.\u001b[0m\u001b[0mdtype\u001b[0m\u001b[1;33m.\u001b[0m\u001b[0mkind\u001b[0m \u001b[1;33m==\u001b[0m \u001b[1;34m'O'\u001b[0m\u001b[1;33m:\u001b[0m\u001b[1;33m\u001b[0m\u001b[0m\n",
      "\u001b[1;32m~\\Miniconda3\\lib\\site-packages\\sklearn\\utils\\validation.py\u001b[0m in \u001b[0;36mcolumn_or_1d\u001b[1;34m(y, warn)\u001b[0m\n\u001b[0;32m    612\u001b[0m         \u001b[1;32mreturn\u001b[0m \u001b[0mnp\u001b[0m\u001b[1;33m.\u001b[0m\u001b[0mravel\u001b[0m\u001b[1;33m(\u001b[0m\u001b[0my\u001b[0m\u001b[1;33m)\u001b[0m\u001b[1;33m\u001b[0m\u001b[0m\n\u001b[0;32m    613\u001b[0m \u001b[1;33m\u001b[0m\u001b[0m\n\u001b[1;32m--> 614\u001b[1;33m     \u001b[1;32mraise\u001b[0m \u001b[0mValueError\u001b[0m\u001b[1;33m(\u001b[0m\u001b[1;34m\"bad input shape {0}\"\u001b[0m\u001b[1;33m.\u001b[0m\u001b[0mformat\u001b[0m\u001b[1;33m(\u001b[0m\u001b[0mshape\u001b[0m\u001b[1;33m)\u001b[0m\u001b[1;33m)\u001b[0m\u001b[1;33m\u001b[0m\u001b[0m\n\u001b[0m\u001b[0;32m    615\u001b[0m \u001b[1;33m\u001b[0m\u001b[0m\n\u001b[0;32m    616\u001b[0m \u001b[1;33m\u001b[0m\u001b[0m\n",
      "\u001b[1;31mValueError\u001b[0m: bad input shape (43998, 8)"
     ]
    }
   ],
   "source": [
    "import matplotlib.pyplot as plt\n",
    "from matplotlib.colors import ListedColormap\n",
    "from sklearn.model_selection import train_test_split\n",
    "from sklearn.preprocessing import StandardScaler\n",
    "from sklearn.datasets import make_moons, make_circles, make_classification\n",
    "from sklearn.neural_network import MLPClassifier\n",
    "from sklearn.neighbors import KNeighborsClassifier\n",
    "from sklearn.svm import SVC\n",
    "from sklearn.gaussian_process import GaussianProcessClassifier\n",
    "from sklearn.gaussian_process.kernels import RBF\n",
    "from sklearn.tree import DecisionTreeClassifier\n",
    "from sklearn.ensemble import RandomForestClassifier, AdaBoostClassifier\n",
    "from sklearn.naive_bayes import GaussianNB\n",
    "from sklearn.discriminant_analysis import QuadraticDiscriminantAnalysis\n",
    "h = .02  # step size in the mesh\n",
    "\n",
    "names = [\"Nearest Neighbors\", \"Linear SVM\", \"RBF SVM\", \"Gaussian Process\",\n",
    "         \"Decision Tree\", \"Random Forest\", \"Neural Net\", \"AdaBoost\",\n",
    "         \"Naive Bayes\", \"QDA\"]\n",
    "\n",
    "classifiers = [\n",
    "   # KNeighborsClassifier(3),\n",
    "   # SVC(kernel=\"linear\", C=0.025),\n",
    "    #SVC(gamma=2, C=1),\n",
    "    GaussianProcessClassifier(1.0 * RBF(1.0)),\n",
    "    DecisionTreeClassifier(max_depth=5),\n",
    "    RandomForestClassifier(max_depth=5, n_estimators=10, max_features=1),\n",
    "    MLPClassifier(alpha=1),\n",
    "    AdaBoostClassifier(),\n",
    "    GaussianNB(),\n",
    "    QuadraticDiscriminantAnalysis()]\n",
    "for i in classifiers:\n",
    "    i.fit(final_dog,dog_outcome.todense())\n",
    "    predictions=i.predict(final_dog)\n",
    "    print(i,accuracy_score(predictions,dog_outcome))"
   ]
  },
  {
   "cell_type": "code",
   "execution_count": null,
   "metadata": {},
   "outputs": [],
   "source": [
    "predictions[1:10]"
   ]
  },
  {
   "cell_type": "code",
   "execution_count": null,
   "metadata": {},
   "outputs": [],
   "source": []
  },
  {
   "cell_type": "code",
   "execution_count": 53,
   "metadata": {},
   "outputs": [
    {
     "name": "stdout",
     "output_type": "stream",
     "text": [
      "0.00059093593\n",
      "0.00059093593\n",
      "0.00059093593\n",
      "0.00059093593\n",
      "0.00059093593\n",
      "0.00059093593\n",
      "0.00059093593\n",
      "0.00059093593\n",
      "0.00059093593\n",
      "0.00059093593\n",
      "0.00059093593\n",
      "0.0011818719\n",
      "0.007363971\n",
      "0.02213737\n",
      "0.06623028\n",
      "0.120823674\n",
      "0.18912223\n",
      "0.19148597\n",
      "0.24671575\n",
      "0.2774899\n",
      "0.28162643\n",
      "0.32469657\n",
      "0.40735942\n",
      "0.42520115\n",
      "0.44095185\n",
      "0.44236103\n",
      "0.44254285\n",
      "0.43901995\n",
      "0.42108732\n",
      "0.41331425\n",
      "0.39219964\n",
      "0.31528705\n",
      "0.27683076\n",
      "0.25610256\n",
      "0.231806\n",
      "0.23141961\n",
      "0.24446566\n",
      "0.29449067\n",
      "0.36040273\n",
      "0.3875858\n",
      "0.4079049\n",
      "0.40801856\n",
      "0.41288242\n",
      "0.39451793\n",
      "0.3647893\n",
      "0.34290195\n",
      "0.3069685\n",
      "0.27803537\n",
      "0.30028638\n",
      "0.3476749\n",
      "0.3848584\n",
      "0.4027683\n",
      "0.40029094\n",
      "0.4005182\n",
      "0.40947315\n",
      "0.40135914\n",
      "0.39435884\n",
      "0.36978954\n",
      "0.3384472\n",
      "0.3235829\n",
      "0.33478794\n",
      "0.3129233\n",
      "0.3186963\n",
      "0.3696986\n",
      "0.40904132\n",
      "0.41338244\n",
      "0.3952907\n",
      "0.38344926\n",
      "0.35862994\n",
      "0.361971\n",
      "0.38185826\n",
      "0.40201828\n",
      "0.41483703\n",
      "0.41749626\n",
      "0.40140462\n",
      "0.38533568\n",
      "0.3664712\n",
      "0.35887995\n",
      "0.38054\n",
      "0.40170008\n",
      "0.40631393\n",
      "0.38076732\n",
      "0.33142415\n",
      "0.33399245\n",
      "0.34501567\n",
      "0.35812992\n",
      "0.39565435\n",
      "0.42404202\n",
      "0.43658802\n",
      "0.40385926\n",
      "0.3746761\n",
      "0.34449294\n",
      "0.35906178\n",
      "0.39838174\n",
      "0.4192236\n",
      "0.4107232\n",
      "0.39854085\n",
      "0.40624574\n",
      "0.42133734\n",
      "0.41783717\n",
      "0.41783717\n"
     ]
    }
   ],
   "source": [
    "X_tf=tf.placeholder(tf.float32,[None,14])\n",
    "y_tf=tf.placeholder(tf.float32,[None,8])\n",
    "W=tf.Variable(tf.zeros([14,8]))\n",
    "b=tf.Variable(tf.zeros([8]))\n",
    "import tensorflow as tf\n",
    "l1_nodes=1000\n",
    "l2_nodes=1000\n",
    "l3_nodes=1000\n",
    "hidden_layer_1={'weights':tf.Variable(tf.random_normal([14,l1_nodes])),'bias':tf.Variable(tf.random_normal([l1_nodes]))}\n",
    "hidden_layer_2={'weights':tf.Variable(tf.random_normal([l1_nodes,l2_nodes])),'bias':tf.Variable(tf.random_normal([l2_nodes]))}\n",
    "hidden_layer_3={'weights':tf.Variable(tf.random_normal([l2_nodes,l3_nodes])),'bias':tf.Variable(tf.random_normal([l3_nodes]))}\n",
    "output_layer={'weights':tf.Variable(tf.random_normal([l3_nodes,8])),'bias':tf.Variable(tf.random_normal([8]))}\n",
    "#values computer by each layer::  Weight*x+bias\n",
    "l1=tf.add(tf.matmul(X_tf,hidden_layer_1['weights']),hidden_layer_1['bias'])\n",
    "#we are using relu as the activation layer\n",
    "#activation function of a node defines the output of that node\n",
    "l1=tf.nn.relu(l1)\n",
    "l2=tf.add(tf.matmul(l1,hidden_layer_2['weights']),hidden_layer_2['bias'])\n",
    "l2=tf.nn.relu(l2)\n",
    "l3=tf.add(tf.matmul(l2,hidden_layer_3['weights']),hidden_layer_3['bias'])\n",
    "l3=tf.nn.relu(l3)\n",
    "output=tf.add(tf.matmul(l1,output_layer['weights']),output_layer['bias'])\n",
    "cost=tf.reduce_mean(tf.nn.softmax_cross_entropy_with_logits(logits=output,labels=y_tf))\n",
    "y_=tf.nn.softmax(output)\n",
    "cross_entropy=tf.reduce_mean(-tf.reduce_sum(y_tf * tf.log(y_), reduction_indices=[1]))\n",
    "#optimizer=tf.train.GradientDescentOptimizer(0.001).minimize(cost)\n",
    "optimizer=tf.train.AdamOptimizer().minimize(cost)\n",
    "sess=tf.InteractiveSession()\n",
    "sess.run(tf.global_variables_initializer())\n",
    "x=0\n",
    "for _ in range(100):\n",
    "    x=x+1000\n",
    "    if(x>=40000):\n",
    "        x=0\n",
    "    sess.run(optimizer, feed_dict={X_tf: np.array(final_dog)[x:x+1000], y_tf: np.array(dog_outcome.todense())[x:x+1000]})\n",
    "    correct_prediction = tf.equal(tf.argmax(y_tf,1), tf.argmax(y_,1))\n",
    "    accuracy = tf.reduce_mean(tf.cast(correct_prediction, tf.float32))\n",
    "    print(sess.run(accuracy, feed_dict={X_tf: final_dog, y_tf: np.array(dog_outcome.todense())}))\n",
    "correct_prediction = tf.equal(tf.argmax(y_tf,1), tf.argmax(y_,1))\n",
    "accuracy = tf.reduce_mean(tf.cast(correct_prediction, tf.float32))\n",
    "print(sess.run(accuracy, feed_dict={X_tf: final_dog, y_tf: np.array(dog_outcome.todense())}))\n",
    "\n"
   ]
  },
  {
   "cell_type": "code",
   "execution_count": null,
   "metadata": {},
   "outputs": [
    {
     "name": "stdout",
     "output_type": "stream",
     "text": [
      "0.29176328\n",
      "0.455748\n",
      "0.455748\n",
      "0.455748\n",
      "0.455748\n",
      "0.455748\n",
      "0.455748\n",
      "0.455748\n",
      "0.455748\n",
      "0.455748\n",
      "0.455748\n",
      "0.455748\n",
      "0.455748\n",
      "0.455748\n",
      "0.455748\n",
      "0.455748\n",
      "0.455748\n",
      "0.455748\n",
      "0.455748\n",
      "0.455748\n",
      "0.455748\n",
      "0.455748\n",
      "0.455748\n",
      "0.455748\n",
      "0.455748\n",
      "0.455748\n",
      "0.455748\n",
      "0.455748\n",
      "0.455748\n",
      "0.455748\n",
      "0.455748\n",
      "0.455748\n",
      "0.455748\n",
      "0.455748\n",
      "0.455748\n",
      "0.455748\n",
      "0.455748\n",
      "0.455748\n",
      "0.455748\n",
      "0.455748\n",
      "0.455748\n",
      "0.455748\n",
      "0.455748\n",
      "0.455748\n",
      "0.455748\n",
      "0.455748\n",
      "0.455748\n",
      "0.455748\n",
      "0.455748\n",
      "0.455748\n",
      "0.455748\n",
      "0.455748\n",
      "0.455748\n",
      "0.455748\n",
      "0.455748\n",
      "0.455748\n",
      "0.455748\n",
      "0.455748\n",
      "0.455748\n",
      "0.455748\n",
      "0.455748\n",
      "0.455748\n",
      "0.455748\n",
      "0.455748\n",
      "0.455748\n",
      "0.455748\n",
      "0.455748\n",
      "0.455748\n",
      "0.455748\n",
      "0.455748\n",
      "0.455748\n",
      "0.455748\n",
      "0.455748\n",
      "0.455748\n",
      "0.455748\n",
      "0.455748\n",
      "0.455748\n",
      "0.455748\n",
      "0.455748\n",
      "0.455748\n",
      "0.455748\n",
      "0.455748\n",
      "0.455748\n",
      "0.455748\n",
      "0.455748\n",
      "0.455748\n",
      "0.455748\n",
      "0.455748\n",
      "0.455748\n",
      "0.455748\n",
      "0.455748\n",
      "0.455748\n",
      "0.455748\n",
      "0.455748\n",
      "0.455748\n",
      "0.455748\n",
      "0.455748\n",
      "0.455748\n",
      "0.455748\n",
      "0.455748\n",
      "0.455748\n",
      "0.455748\n",
      "0.455748\n",
      "0.455748\n",
      "0.455748\n",
      "0.455748\n",
      "0.455748\n",
      "0.455748\n",
      "0.455748\n",
      "0.455748\n",
      "0.455748\n",
      "0.455748\n",
      "0.455748\n",
      "0.455748\n",
      "0.455748\n",
      "0.455748\n",
      "0.455748\n",
      "0.455748\n",
      "0.455748\n",
      "0.455748\n",
      "0.455748\n",
      "0.455748\n",
      "0.455748\n",
      "0.455748\n",
      "0.455748\n",
      "0.455748\n",
      "0.455748\n",
      "0.455748\n",
      "0.455748\n",
      "0.455748\n",
      "0.455748\n",
      "0.455748\n",
      "0.455748\n",
      "0.455748\n",
      "0.455748\n",
      "0.455748\n",
      "0.455748\n",
      "0.455748\n",
      "0.455748\n",
      "0.455748\n",
      "0.455748\n",
      "0.455748\n",
      "0.455748\n",
      "0.455748\n",
      "0.455748\n",
      "0.455748\n",
      "0.455748\n",
      "0.455748\n",
      "0.455748\n",
      "0.455748\n",
      "0.455748\n",
      "0.455748\n",
      "0.455748\n",
      "0.455748\n",
      "0.455748\n",
      "0.455748\n",
      "0.455748\n",
      "0.455748\n",
      "0.455748\n",
      "0.455748\n",
      "0.455748\n",
      "0.455748\n",
      "0.455748\n",
      "0.455748\n",
      "0.455748\n",
      "0.455748\n",
      "0.455748\n",
      "0.455748\n",
      "0.455748\n",
      "0.455748\n",
      "0.455748\n",
      "0.455748\n",
      "0.455748\n",
      "0.455748\n",
      "0.455748\n",
      "0.455748\n",
      "0.455748\n",
      "0.455748\n",
      "0.455748\n",
      "0.455748\n",
      "0.455748\n",
      "0.455748\n",
      "0.455748\n",
      "0.455748\n",
      "0.455748\n",
      "0.455748\n",
      "0.455748\n",
      "0.455748\n",
      "0.455748\n",
      "0.455748\n",
      "0.455748\n",
      "0.455748\n",
      "0.455748\n",
      "0.455748\n",
      "0.455748\n",
      "0.455748\n",
      "0.455748\n",
      "0.455748\n",
      "0.455748\n",
      "0.455748\n",
      "0.455748\n",
      "0.455748\n",
      "0.455748\n",
      "0.455748\n",
      "0.455748\n",
      "0.455748\n",
      "0.455748\n",
      "0.455748\n",
      "0.455748\n",
      "0.455748\n",
      "0.455748\n",
      "0.455748\n",
      "0.455748\n",
      "0.455748\n",
      "0.455748\n",
      "0.455748\n",
      "0.455748\n",
      "0.455748\n",
      "0.455748\n",
      "0.455748\n",
      "0.455748\n",
      "0.455748\n",
      "0.455748\n",
      "0.455748\n",
      "0.455748\n",
      "0.455748\n",
      "0.455748\n",
      "0.455748\n",
      "0.455748\n",
      "0.455748\n",
      "0.455748\n",
      "0.455748\n",
      "0.455748\n",
      "0.455748\n",
      "0.455748\n",
      "0.455748\n",
      "0.455748\n",
      "0.455748\n",
      "0.455748\n",
      "0.455748\n",
      "0.455748\n",
      "0.455748\n",
      "0.455748\n",
      "0.455748\n",
      "0.455748\n",
      "0.455748\n",
      "0.455748\n",
      "0.455748\n",
      "0.455748\n",
      "0.455748\n",
      "0.455748\n",
      "0.455748\n",
      "0.455748\n",
      "0.455748\n",
      "0.455748\n",
      "0.455748\n",
      "0.455748\n",
      "0.455748\n",
      "0.455748\n",
      "0.455748\n",
      "0.455748\n",
      "0.455748\n",
      "0.455748\n",
      "0.455748\n",
      "0.455748\n",
      "0.455748\n",
      "0.455748\n",
      "0.455748\n",
      "0.455748\n",
      "0.455748\n",
      "0.455748\n",
      "0.455748\n",
      "0.455748\n",
      "0.455748\n",
      "0.455748\n",
      "0.455748\n",
      "0.455748\n",
      "0.455748\n",
      "0.455748\n",
      "0.455748\n",
      "0.455748\n",
      "0.455748\n",
      "0.455748\n",
      "0.455748\n",
      "0.455748\n",
      "0.455748\n",
      "0.455748\n",
      "0.455748\n",
      "0.455748\n",
      "0.455748\n",
      "0.455748\n",
      "0.455748\n",
      "0.455748\n",
      "0.455748\n",
      "0.455748\n",
      "0.455748\n",
      "0.455748\n",
      "0.455748\n",
      "0.455748\n",
      "0.455748\n",
      "0.455748\n",
      "0.455748\n",
      "0.455748\n",
      "0.455748\n",
      "0.455748\n",
      "0.455748\n",
      "0.455748\n",
      "0.455748\n",
      "0.455748\n",
      "0.455748\n",
      "0.455748\n",
      "0.455748\n",
      "0.455748\n",
      "0.455748\n",
      "0.455748\n",
      "0.455748\n",
      "0.455748\n",
      "0.455748\n",
      "0.455748\n",
      "0.455748\n",
      "0.455748\n",
      "0.455748\n",
      "0.455748\n",
      "0.455748\n",
      "0.455748\n",
      "0.455748\n",
      "0.455748\n",
      "0.455748\n",
      "0.455748\n",
      "0.455748\n",
      "0.455748\n",
      "0.455748\n",
      "0.455748\n",
      "0.455748\n",
      "0.455748\n",
      "0.455748\n",
      "0.455748\n",
      "0.455748\n",
      "0.455748\n",
      "0.455748\n",
      "0.455748\n",
      "0.455748\n",
      "0.455748\n",
      "0.455748\n",
      "0.455748\n",
      "0.455748\n",
      "0.455748\n",
      "0.455748\n",
      "0.455748\n",
      "0.455748\n",
      "0.455748\n",
      "0.455748\n",
      "0.455748\n",
      "0.455748\n",
      "0.455748\n",
      "0.455748\n",
      "0.455748\n",
      "0.455748\n",
      "0.455748\n",
      "0.455748\n",
      "0.455748\n",
      "0.455748\n",
      "0.455748\n",
      "0.455748\n",
      "0.455748\n",
      "0.455748\n",
      "0.455748\n",
      "0.455748\n",
      "0.455748\n",
      "0.455748\n",
      "0.455748\n",
      "0.455748\n",
      "0.455748\n",
      "0.455748\n",
      "0.455748\n",
      "0.455748\n",
      "0.455748\n",
      "0.455748\n",
      "0.455748\n",
      "0.455748\n",
      "0.455748\n",
      "0.455748\n",
      "0.455748\n",
      "0.455748\n",
      "0.455748\n",
      "0.455748\n",
      "0.455748\n"
     ]
    }
   ],
   "source": [
    "import tensorflow as tf\n",
    "X_tf=tf.placeholder(tf.float32,[None,14])\n",
    "y_tf=tf.placeholder(tf.float32,[None,8])\n",
    "W=tf.Variable(tf.zeros([14,8]))\n",
    "b=tf.Variable(tf.zeros([8]))\n",
    "y_=tf.nn.softmax(tf.matmul(X_tf,W)+b)\n",
    "cross_entropy=tf.reduce_mean(-tf.reduce_sum(y_tf * tf.log(y_), reduction_indices=[1]))\n",
    "train_step = tf.train.GradientDescentOptimizer(0.5).minimize(cross_entropy)\n",
    "sess = tf.InteractiveSession()\n",
    "tf.global_variables_initializer().run()\n",
    "x=0\n",
    "for _ in range(1000):\n",
    "    x=x+100\n",
    "    if(x>=40000):\n",
    "        x=0\n",
    "    sess.run(train_step, feed_dict={X_tf: np.array(final_dog)[x:x+100], y_tf: np.array(dog_outcome.todense())[x:x+100]})\n",
    "    correct_prediction = tf.equal(tf.argmax(y_tf,1), tf.argmax(y_,1))\n",
    "    accuracy = tf.reduce_mean(tf.cast(correct_prediction, tf.float32))\n",
    "    print(sess.run(accuracy, feed_dict={X_tf: final_dog, y_tf: np.array(dog_outcome.todense())}))"
   ]
  },
  {
   "cell_type": "code",
   "execution_count": 35,
   "metadata": {},
   "outputs": [
    {
     "data": {
      "text/plain": [
       "array([[ 30.,   0.,   0.,   1.,   0.,   0.,   0.,   0.,   1.,   0.,   0.,\n",
       "          0.,   1.,   1.],\n",
       "       [270.,   1.,   0.,   0.,   0.,   0.,   0.,   0.,   1.,   0.,   0.,\n",
       "          0.,   1.,   1.],\n",
       "       [120.,   0.,   1.,   0.,   0.,   0.,   0.,   0.,   1.,   0.,   0.,\n",
       "          0.,   1.,   0.],\n",
       "       [ 90.,   0.,   1.,   0.,   0.,   0.,   0.,   0.,   1.,   0.,   0.,\n",
       "          0.,   0.,   1.],\n",
       "       [ 60.,   0.,   0.,   0.,   0.,   0.,   1.,   0.,   1.,   0.,   0.,\n",
       "          0.,   1.,   1.],\n",
       "       [ 60.,   0.,   1.,   0.,   0.,   0.,   0.,   0.,   0.,   1.,   0.,\n",
       "          0.,   1.,   1.],\n",
       "       [120.,   0.,   0.,   0.,   0.,   0.,   1.,   0.,   0.,   0.,   1.,\n",
       "          0.,   0.,   1.],\n",
       "       [240.,   1.,   0.,   0.,   0.,   0.,   0.,   0.,   0.,   1.,   0.,\n",
       "          0.,   1.,   1.],\n",
       "       [ 60.,   1.,   0.,   0.,   0.,   0.,   0.,   0.,   1.,   0.,   0.,\n",
       "          0.,   1.,   1.]])"
      ]
     },
     "execution_count": 35,
     "metadata": {},
     "output_type": "execute_result"
    }
   ],
   "source": [
    "np.array(final_dog)[1:10]"
   ]
  },
  {
   "cell_type": "code",
   "execution_count": 184,
   "metadata": {},
   "outputs": [
    {
     "name": "stdout",
     "output_type": "stream",
     "text": [
      "(8, 1, 2)\n"
     ]
    }
   ],
   "source": [
    "print(np.array(clf.predict_proba(final_dog[0])).shape)"
   ]
  },
  {
   "cell_type": "code",
   "execution_count": 179,
   "metadata": {},
   "outputs": [
    {
     "data": {
      "text/plain": [
       "(43998, 8)"
      ]
     },
     "execution_count": 179,
     "metadata": {},
     "output_type": "execute_result"
    }
   ],
   "source": [
    "dog_outcome.todense().shape"
   ]
  },
  {
   "cell_type": "code",
   "execution_count": null,
   "metadata": {},
   "outputs": [],
   "source": []
  },
  {
   "cell_type": "code",
   "execution_count": null,
   "metadata": {},
   "outputs": [],
   "source": []
  },
  {
   "cell_type": "code",
   "execution_count": 59,
   "metadata": {},
   "outputs": [],
   "source": [
    "x=sns.load_dataset(\"iris\")"
   ]
  },
  {
   "cell_type": "code",
   "execution_count": 61,
   "metadata": {},
   "outputs": [
    {
     "data": {
      "text/html": [
       "<div>\n",
       "<style scoped>\n",
       "    .dataframe tbody tr th:only-of-type {\n",
       "        vertical-align: middle;\n",
       "    }\n",
       "\n",
       "    .dataframe tbody tr th {\n",
       "        vertical-align: top;\n",
       "    }\n",
       "\n",
       "    .dataframe thead th {\n",
       "        text-align: right;\n",
       "    }\n",
       "</style>\n",
       "<table border=\"1\" class=\"dataframe\">\n",
       "  <thead>\n",
       "    <tr style=\"text-align: right;\">\n",
       "      <th></th>\n",
       "      <th>sepal_length</th>\n",
       "      <th>sepal_width</th>\n",
       "      <th>petal_length</th>\n",
       "      <th>petal_width</th>\n",
       "      <th>species</th>\n",
       "    </tr>\n",
       "  </thead>\n",
       "  <tbody>\n",
       "    <tr>\n",
       "      <th>0</th>\n",
       "      <td>5.1</td>\n",
       "      <td>3.5</td>\n",
       "      <td>1.4</td>\n",
       "      <td>0.2</td>\n",
       "      <td>setosa</td>\n",
       "    </tr>\n",
       "    <tr>\n",
       "      <th>1</th>\n",
       "      <td>4.9</td>\n",
       "      <td>3.0</td>\n",
       "      <td>1.4</td>\n",
       "      <td>0.2</td>\n",
       "      <td>setosa</td>\n",
       "    </tr>\n",
       "    <tr>\n",
       "      <th>2</th>\n",
       "      <td>4.7</td>\n",
       "      <td>3.2</td>\n",
       "      <td>1.3</td>\n",
       "      <td>0.2</td>\n",
       "      <td>setosa</td>\n",
       "    </tr>\n",
       "    <tr>\n",
       "      <th>3</th>\n",
       "      <td>4.6</td>\n",
       "      <td>3.1</td>\n",
       "      <td>1.5</td>\n",
       "      <td>0.2</td>\n",
       "      <td>setosa</td>\n",
       "    </tr>\n",
       "    <tr>\n",
       "      <th>4</th>\n",
       "      <td>5.0</td>\n",
       "      <td>3.6</td>\n",
       "      <td>1.4</td>\n",
       "      <td>0.2</td>\n",
       "      <td>setosa</td>\n",
       "    </tr>\n",
       "    <tr>\n",
       "      <th>5</th>\n",
       "      <td>5.4</td>\n",
       "      <td>3.9</td>\n",
       "      <td>1.7</td>\n",
       "      <td>0.4</td>\n",
       "      <td>setosa</td>\n",
       "    </tr>\n",
       "    <tr>\n",
       "      <th>6</th>\n",
       "      <td>4.6</td>\n",
       "      <td>3.4</td>\n",
       "      <td>1.4</td>\n",
       "      <td>0.3</td>\n",
       "      <td>setosa</td>\n",
       "    </tr>\n",
       "    <tr>\n",
       "      <th>7</th>\n",
       "      <td>5.0</td>\n",
       "      <td>3.4</td>\n",
       "      <td>1.5</td>\n",
       "      <td>0.2</td>\n",
       "      <td>setosa</td>\n",
       "    </tr>\n",
       "    <tr>\n",
       "      <th>8</th>\n",
       "      <td>4.4</td>\n",
       "      <td>2.9</td>\n",
       "      <td>1.4</td>\n",
       "      <td>0.2</td>\n",
       "      <td>setosa</td>\n",
       "    </tr>\n",
       "    <tr>\n",
       "      <th>9</th>\n",
       "      <td>4.9</td>\n",
       "      <td>3.1</td>\n",
       "      <td>1.5</td>\n",
       "      <td>0.1</td>\n",
       "      <td>setosa</td>\n",
       "    </tr>\n",
       "    <tr>\n",
       "      <th>10</th>\n",
       "      <td>5.4</td>\n",
       "      <td>3.7</td>\n",
       "      <td>1.5</td>\n",
       "      <td>0.2</td>\n",
       "      <td>setosa</td>\n",
       "    </tr>\n",
       "    <tr>\n",
       "      <th>11</th>\n",
       "      <td>4.8</td>\n",
       "      <td>3.4</td>\n",
       "      <td>1.6</td>\n",
       "      <td>0.2</td>\n",
       "      <td>setosa</td>\n",
       "    </tr>\n",
       "    <tr>\n",
       "      <th>12</th>\n",
       "      <td>4.8</td>\n",
       "      <td>3.0</td>\n",
       "      <td>1.4</td>\n",
       "      <td>0.1</td>\n",
       "      <td>setosa</td>\n",
       "    </tr>\n",
       "    <tr>\n",
       "      <th>13</th>\n",
       "      <td>4.3</td>\n",
       "      <td>3.0</td>\n",
       "      <td>1.1</td>\n",
       "      <td>0.1</td>\n",
       "      <td>setosa</td>\n",
       "    </tr>\n",
       "    <tr>\n",
       "      <th>14</th>\n",
       "      <td>5.8</td>\n",
       "      <td>4.0</td>\n",
       "      <td>1.2</td>\n",
       "      <td>0.2</td>\n",
       "      <td>setosa</td>\n",
       "    </tr>\n",
       "    <tr>\n",
       "      <th>15</th>\n",
       "      <td>5.7</td>\n",
       "      <td>4.4</td>\n",
       "      <td>1.5</td>\n",
       "      <td>0.4</td>\n",
       "      <td>setosa</td>\n",
       "    </tr>\n",
       "    <tr>\n",
       "      <th>16</th>\n",
       "      <td>5.4</td>\n",
       "      <td>3.9</td>\n",
       "      <td>1.3</td>\n",
       "      <td>0.4</td>\n",
       "      <td>setosa</td>\n",
       "    </tr>\n",
       "    <tr>\n",
       "      <th>17</th>\n",
       "      <td>5.1</td>\n",
       "      <td>3.5</td>\n",
       "      <td>1.4</td>\n",
       "      <td>0.3</td>\n",
       "      <td>setosa</td>\n",
       "    </tr>\n",
       "    <tr>\n",
       "      <th>18</th>\n",
       "      <td>5.7</td>\n",
       "      <td>3.8</td>\n",
       "      <td>1.7</td>\n",
       "      <td>0.3</td>\n",
       "      <td>setosa</td>\n",
       "    </tr>\n",
       "    <tr>\n",
       "      <th>19</th>\n",
       "      <td>5.1</td>\n",
       "      <td>3.8</td>\n",
       "      <td>1.5</td>\n",
       "      <td>0.3</td>\n",
       "      <td>setosa</td>\n",
       "    </tr>\n",
       "    <tr>\n",
       "      <th>20</th>\n",
       "      <td>5.4</td>\n",
       "      <td>3.4</td>\n",
       "      <td>1.7</td>\n",
       "      <td>0.2</td>\n",
       "      <td>setosa</td>\n",
       "    </tr>\n",
       "    <tr>\n",
       "      <th>21</th>\n",
       "      <td>5.1</td>\n",
       "      <td>3.7</td>\n",
       "      <td>1.5</td>\n",
       "      <td>0.4</td>\n",
       "      <td>setosa</td>\n",
       "    </tr>\n",
       "    <tr>\n",
       "      <th>22</th>\n",
       "      <td>4.6</td>\n",
       "      <td>3.6</td>\n",
       "      <td>1.0</td>\n",
       "      <td>0.2</td>\n",
       "      <td>setosa</td>\n",
       "    </tr>\n",
       "    <tr>\n",
       "      <th>23</th>\n",
       "      <td>5.1</td>\n",
       "      <td>3.3</td>\n",
       "      <td>1.7</td>\n",
       "      <td>0.5</td>\n",
       "      <td>setosa</td>\n",
       "    </tr>\n",
       "    <tr>\n",
       "      <th>24</th>\n",
       "      <td>4.8</td>\n",
       "      <td>3.4</td>\n",
       "      <td>1.9</td>\n",
       "      <td>0.2</td>\n",
       "      <td>setosa</td>\n",
       "    </tr>\n",
       "    <tr>\n",
       "      <th>25</th>\n",
       "      <td>5.0</td>\n",
       "      <td>3.0</td>\n",
       "      <td>1.6</td>\n",
       "      <td>0.2</td>\n",
       "      <td>setosa</td>\n",
       "    </tr>\n",
       "    <tr>\n",
       "      <th>26</th>\n",
       "      <td>5.0</td>\n",
       "      <td>3.4</td>\n",
       "      <td>1.6</td>\n",
       "      <td>0.4</td>\n",
       "      <td>setosa</td>\n",
       "    </tr>\n",
       "    <tr>\n",
       "      <th>27</th>\n",
       "      <td>5.2</td>\n",
       "      <td>3.5</td>\n",
       "      <td>1.5</td>\n",
       "      <td>0.2</td>\n",
       "      <td>setosa</td>\n",
       "    </tr>\n",
       "    <tr>\n",
       "      <th>28</th>\n",
       "      <td>5.2</td>\n",
       "      <td>3.4</td>\n",
       "      <td>1.4</td>\n",
       "      <td>0.2</td>\n",
       "      <td>setosa</td>\n",
       "    </tr>\n",
       "    <tr>\n",
       "      <th>29</th>\n",
       "      <td>4.7</td>\n",
       "      <td>3.2</td>\n",
       "      <td>1.6</td>\n",
       "      <td>0.2</td>\n",
       "      <td>setosa</td>\n",
       "    </tr>\n",
       "    <tr>\n",
       "      <th>...</th>\n",
       "      <td>...</td>\n",
       "      <td>...</td>\n",
       "      <td>...</td>\n",
       "      <td>...</td>\n",
       "      <td>...</td>\n",
       "    </tr>\n",
       "    <tr>\n",
       "      <th>120</th>\n",
       "      <td>6.9</td>\n",
       "      <td>3.2</td>\n",
       "      <td>5.7</td>\n",
       "      <td>2.3</td>\n",
       "      <td>virginica</td>\n",
       "    </tr>\n",
       "    <tr>\n",
       "      <th>121</th>\n",
       "      <td>5.6</td>\n",
       "      <td>2.8</td>\n",
       "      <td>4.9</td>\n",
       "      <td>2.0</td>\n",
       "      <td>virginica</td>\n",
       "    </tr>\n",
       "    <tr>\n",
       "      <th>122</th>\n",
       "      <td>7.7</td>\n",
       "      <td>2.8</td>\n",
       "      <td>6.7</td>\n",
       "      <td>2.0</td>\n",
       "      <td>virginica</td>\n",
       "    </tr>\n",
       "    <tr>\n",
       "      <th>123</th>\n",
       "      <td>6.3</td>\n",
       "      <td>2.7</td>\n",
       "      <td>4.9</td>\n",
       "      <td>1.8</td>\n",
       "      <td>virginica</td>\n",
       "    </tr>\n",
       "    <tr>\n",
       "      <th>124</th>\n",
       "      <td>6.7</td>\n",
       "      <td>3.3</td>\n",
       "      <td>5.7</td>\n",
       "      <td>2.1</td>\n",
       "      <td>virginica</td>\n",
       "    </tr>\n",
       "    <tr>\n",
       "      <th>125</th>\n",
       "      <td>7.2</td>\n",
       "      <td>3.2</td>\n",
       "      <td>6.0</td>\n",
       "      <td>1.8</td>\n",
       "      <td>virginica</td>\n",
       "    </tr>\n",
       "    <tr>\n",
       "      <th>126</th>\n",
       "      <td>6.2</td>\n",
       "      <td>2.8</td>\n",
       "      <td>4.8</td>\n",
       "      <td>1.8</td>\n",
       "      <td>virginica</td>\n",
       "    </tr>\n",
       "    <tr>\n",
       "      <th>127</th>\n",
       "      <td>6.1</td>\n",
       "      <td>3.0</td>\n",
       "      <td>4.9</td>\n",
       "      <td>1.8</td>\n",
       "      <td>virginica</td>\n",
       "    </tr>\n",
       "    <tr>\n",
       "      <th>128</th>\n",
       "      <td>6.4</td>\n",
       "      <td>2.8</td>\n",
       "      <td>5.6</td>\n",
       "      <td>2.1</td>\n",
       "      <td>virginica</td>\n",
       "    </tr>\n",
       "    <tr>\n",
       "      <th>129</th>\n",
       "      <td>7.2</td>\n",
       "      <td>3.0</td>\n",
       "      <td>5.8</td>\n",
       "      <td>1.6</td>\n",
       "      <td>virginica</td>\n",
       "    </tr>\n",
       "    <tr>\n",
       "      <th>130</th>\n",
       "      <td>7.4</td>\n",
       "      <td>2.8</td>\n",
       "      <td>6.1</td>\n",
       "      <td>1.9</td>\n",
       "      <td>virginica</td>\n",
       "    </tr>\n",
       "    <tr>\n",
       "      <th>131</th>\n",
       "      <td>7.9</td>\n",
       "      <td>3.8</td>\n",
       "      <td>6.4</td>\n",
       "      <td>2.0</td>\n",
       "      <td>virginica</td>\n",
       "    </tr>\n",
       "    <tr>\n",
       "      <th>132</th>\n",
       "      <td>6.4</td>\n",
       "      <td>2.8</td>\n",
       "      <td>5.6</td>\n",
       "      <td>2.2</td>\n",
       "      <td>virginica</td>\n",
       "    </tr>\n",
       "    <tr>\n",
       "      <th>133</th>\n",
       "      <td>6.3</td>\n",
       "      <td>2.8</td>\n",
       "      <td>5.1</td>\n",
       "      <td>1.5</td>\n",
       "      <td>virginica</td>\n",
       "    </tr>\n",
       "    <tr>\n",
       "      <th>134</th>\n",
       "      <td>6.1</td>\n",
       "      <td>2.6</td>\n",
       "      <td>5.6</td>\n",
       "      <td>1.4</td>\n",
       "      <td>virginica</td>\n",
       "    </tr>\n",
       "    <tr>\n",
       "      <th>135</th>\n",
       "      <td>7.7</td>\n",
       "      <td>3.0</td>\n",
       "      <td>6.1</td>\n",
       "      <td>2.3</td>\n",
       "      <td>virginica</td>\n",
       "    </tr>\n",
       "    <tr>\n",
       "      <th>136</th>\n",
       "      <td>6.3</td>\n",
       "      <td>3.4</td>\n",
       "      <td>5.6</td>\n",
       "      <td>2.4</td>\n",
       "      <td>virginica</td>\n",
       "    </tr>\n",
       "    <tr>\n",
       "      <th>137</th>\n",
       "      <td>6.4</td>\n",
       "      <td>3.1</td>\n",
       "      <td>5.5</td>\n",
       "      <td>1.8</td>\n",
       "      <td>virginica</td>\n",
       "    </tr>\n",
       "    <tr>\n",
       "      <th>138</th>\n",
       "      <td>6.0</td>\n",
       "      <td>3.0</td>\n",
       "      <td>4.8</td>\n",
       "      <td>1.8</td>\n",
       "      <td>virginica</td>\n",
       "    </tr>\n",
       "    <tr>\n",
       "      <th>139</th>\n",
       "      <td>6.9</td>\n",
       "      <td>3.1</td>\n",
       "      <td>5.4</td>\n",
       "      <td>2.1</td>\n",
       "      <td>virginica</td>\n",
       "    </tr>\n",
       "    <tr>\n",
       "      <th>140</th>\n",
       "      <td>6.7</td>\n",
       "      <td>3.1</td>\n",
       "      <td>5.6</td>\n",
       "      <td>2.4</td>\n",
       "      <td>virginica</td>\n",
       "    </tr>\n",
       "    <tr>\n",
       "      <th>141</th>\n",
       "      <td>6.9</td>\n",
       "      <td>3.1</td>\n",
       "      <td>5.1</td>\n",
       "      <td>2.3</td>\n",
       "      <td>virginica</td>\n",
       "    </tr>\n",
       "    <tr>\n",
       "      <th>142</th>\n",
       "      <td>5.8</td>\n",
       "      <td>2.7</td>\n",
       "      <td>5.1</td>\n",
       "      <td>1.9</td>\n",
       "      <td>virginica</td>\n",
       "    </tr>\n",
       "    <tr>\n",
       "      <th>143</th>\n",
       "      <td>6.8</td>\n",
       "      <td>3.2</td>\n",
       "      <td>5.9</td>\n",
       "      <td>2.3</td>\n",
       "      <td>virginica</td>\n",
       "    </tr>\n",
       "    <tr>\n",
       "      <th>144</th>\n",
       "      <td>6.7</td>\n",
       "      <td>3.3</td>\n",
       "      <td>5.7</td>\n",
       "      <td>2.5</td>\n",
       "      <td>virginica</td>\n",
       "    </tr>\n",
       "    <tr>\n",
       "      <th>145</th>\n",
       "      <td>6.7</td>\n",
       "      <td>3.0</td>\n",
       "      <td>5.2</td>\n",
       "      <td>2.3</td>\n",
       "      <td>virginica</td>\n",
       "    </tr>\n",
       "    <tr>\n",
       "      <th>146</th>\n",
       "      <td>6.3</td>\n",
       "      <td>2.5</td>\n",
       "      <td>5.0</td>\n",
       "      <td>1.9</td>\n",
       "      <td>virginica</td>\n",
       "    </tr>\n",
       "    <tr>\n",
       "      <th>147</th>\n",
       "      <td>6.5</td>\n",
       "      <td>3.0</td>\n",
       "      <td>5.2</td>\n",
       "      <td>2.0</td>\n",
       "      <td>virginica</td>\n",
       "    </tr>\n",
       "    <tr>\n",
       "      <th>148</th>\n",
       "      <td>6.2</td>\n",
       "      <td>3.4</td>\n",
       "      <td>5.4</td>\n",
       "      <td>2.3</td>\n",
       "      <td>virginica</td>\n",
       "    </tr>\n",
       "    <tr>\n",
       "      <th>149</th>\n",
       "      <td>5.9</td>\n",
       "      <td>3.0</td>\n",
       "      <td>5.1</td>\n",
       "      <td>1.8</td>\n",
       "      <td>virginica</td>\n",
       "    </tr>\n",
       "  </tbody>\n",
       "</table>\n",
       "<p>150 rows × 5 columns</p>\n",
       "</div>"
      ],
      "text/plain": [
       "     sepal_length  sepal_width  petal_length  petal_width    species\n",
       "0             5.1          3.5           1.4          0.2     setosa\n",
       "1             4.9          3.0           1.4          0.2     setosa\n",
       "2             4.7          3.2           1.3          0.2     setosa\n",
       "3             4.6          3.1           1.5          0.2     setosa\n",
       "4             5.0          3.6           1.4          0.2     setosa\n",
       "5             5.4          3.9           1.7          0.4     setosa\n",
       "6             4.6          3.4           1.4          0.3     setosa\n",
       "7             5.0          3.4           1.5          0.2     setosa\n",
       "8             4.4          2.9           1.4          0.2     setosa\n",
       "9             4.9          3.1           1.5          0.1     setosa\n",
       "10            5.4          3.7           1.5          0.2     setosa\n",
       "11            4.8          3.4           1.6          0.2     setosa\n",
       "12            4.8          3.0           1.4          0.1     setosa\n",
       "13            4.3          3.0           1.1          0.1     setosa\n",
       "14            5.8          4.0           1.2          0.2     setosa\n",
       "15            5.7          4.4           1.5          0.4     setosa\n",
       "16            5.4          3.9           1.3          0.4     setosa\n",
       "17            5.1          3.5           1.4          0.3     setosa\n",
       "18            5.7          3.8           1.7          0.3     setosa\n",
       "19            5.1          3.8           1.5          0.3     setosa\n",
       "20            5.4          3.4           1.7          0.2     setosa\n",
       "21            5.1          3.7           1.5          0.4     setosa\n",
       "22            4.6          3.6           1.0          0.2     setosa\n",
       "23            5.1          3.3           1.7          0.5     setosa\n",
       "24            4.8          3.4           1.9          0.2     setosa\n",
       "25            5.0          3.0           1.6          0.2     setosa\n",
       "26            5.0          3.4           1.6          0.4     setosa\n",
       "27            5.2          3.5           1.5          0.2     setosa\n",
       "28            5.2          3.4           1.4          0.2     setosa\n",
       "29            4.7          3.2           1.6          0.2     setosa\n",
       "..            ...          ...           ...          ...        ...\n",
       "120           6.9          3.2           5.7          2.3  virginica\n",
       "121           5.6          2.8           4.9          2.0  virginica\n",
       "122           7.7          2.8           6.7          2.0  virginica\n",
       "123           6.3          2.7           4.9          1.8  virginica\n",
       "124           6.7          3.3           5.7          2.1  virginica\n",
       "125           7.2          3.2           6.0          1.8  virginica\n",
       "126           6.2          2.8           4.8          1.8  virginica\n",
       "127           6.1          3.0           4.9          1.8  virginica\n",
       "128           6.4          2.8           5.6          2.1  virginica\n",
       "129           7.2          3.0           5.8          1.6  virginica\n",
       "130           7.4          2.8           6.1          1.9  virginica\n",
       "131           7.9          3.8           6.4          2.0  virginica\n",
       "132           6.4          2.8           5.6          2.2  virginica\n",
       "133           6.3          2.8           5.1          1.5  virginica\n",
       "134           6.1          2.6           5.6          1.4  virginica\n",
       "135           7.7          3.0           6.1          2.3  virginica\n",
       "136           6.3          3.4           5.6          2.4  virginica\n",
       "137           6.4          3.1           5.5          1.8  virginica\n",
       "138           6.0          3.0           4.8          1.8  virginica\n",
       "139           6.9          3.1           5.4          2.1  virginica\n",
       "140           6.7          3.1           5.6          2.4  virginica\n",
       "141           6.9          3.1           5.1          2.3  virginica\n",
       "142           5.8          2.7           5.1          1.9  virginica\n",
       "143           6.8          3.2           5.9          2.3  virginica\n",
       "144           6.7          3.3           5.7          2.5  virginica\n",
       "145           6.7          3.0           5.2          2.3  virginica\n",
       "146           6.3          2.5           5.0          1.9  virginica\n",
       "147           6.5          3.0           5.2          2.0  virginica\n",
       "148           6.2          3.4           5.4          2.3  virginica\n",
       "149           5.9          3.0           5.1          1.8  virginica\n",
       "\n",
       "[150 rows x 5 columns]"
      ]
     },
     "execution_count": 61,
     "metadata": {},
     "output_type": "execute_result"
    }
   ],
   "source": [
    "x"
   ]
  },
  {
   "cell_type": "code",
   "execution_count": null,
   "metadata": {},
   "outputs": [],
   "source": []
  },
  {
   "cell_type": "code",
   "execution_count": null,
   "metadata": {},
   "outputs": [],
   "source": []
  },
  {
   "cell_type": "code",
   "execution_count": null,
   "metadata": {},
   "outputs": [],
   "source": []
  }
 ],
 "metadata": {
  "kernelspec": {
   "display_name": "Python 3",
   "language": "python",
   "name": "python3"
  },
  "language_info": {
   "codemirror_mode": {
    "name": "ipython",
    "version": 3
   },
   "file_extension": ".py",
   "mimetype": "text/x-python",
   "name": "python",
   "nbconvert_exporter": "python",
   "pygments_lexer": "ipython3",
   "version": "3.6.4"
  }
 },
 "nbformat": 4,
 "nbformat_minor": 2
}
